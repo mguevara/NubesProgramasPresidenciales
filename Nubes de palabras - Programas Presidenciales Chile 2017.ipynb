{
 "cells": [
  {
   "cell_type": "markdown",
   "metadata": {},
   "source": [
    "# Nubes de palabras - Programas Presidenciales Chile 2017\n",
    "Códigos con que se generaron Nubes de Palabras.\n",
    "Se requieren Módulos NLTK, WordCloud\n",
    "Detalles metodológicos y resultados se pueden ver en el [Artículo en MEDIUM AQUI](https://medium.com/@MGuevaraA/c%C3%B3mo-son-los-programas-presidenciales-si-visualizamos-sus-palabras-m%C3%A1s-relevantes-81e5a14415e)"
   ]
  },
  {
   "cell_type": "code",
   "execution_count": 244,
   "metadata": {},
   "outputs": [],
   "source": [
    "def get_text(candidato):\n",
    "    import codecs\n",
    "    f = codecs.open(\"DATA/\"+candidato+\".txt\", encoding=\"UTF-8\")\n",
    "    text = f.read()\n",
    "    return text"
   ]
  },
  {
   "cell_type": "code",
   "execution_count": 248,
   "metadata": {},
   "outputs": [],
   "source": [
    "#funcion no utilizada en version final\n",
    "def get_text_pdf(archivo):\n",
    "    import textract #install previously\n",
    "    if archivo == \"goic\" or archivo == \"guillier\":\n",
    "        \n",
    "        archivo+=\".txt\"\n",
    "        \n",
    "    else:\n",
    "        archivo+=\".pdf\"\n",
    "    text = textract.process(archivo, encoding=\"utf_8\")\n",
    "    return text\n",
    "\n",
    "def word_cloud(texto, candidat):\n",
    "    from wordcloud import WordCloud\n",
    "    from wordcloud import WordCloud, STOPWORDS\n",
    "    from os import path, getcwd\n",
    "    #d = \"/Users/mguevara/Dropbox/UPLA/INVESTIGACION/proyectos/PROGRAMAS\\ SON\\ PALABRAS/\"\n",
    "    d= getcwd()\n",
    "    #if candidat==\"pinera\": candidat=u\"piñera\"\n",
    "    texto = texto.replace(\"chilenos\", \"XXXXX\")\n",
    "    texto = texto.replace(\"chile\", candidat)\n",
    "    texto = texto.replace(\"XXXXX\", \"chilenos\")\n",
    "  \n",
    "    import matplotlib.pyplot as plt\n",
    " \n",
    "    # lower max_font_size\n",
    "    wordcloud = WordCloud(background_color=\"black\",normalize_plurals=False,max_font_size=200, max_words=300, width=1000, height=600).generate(texto)\n",
    "    wordcloud.to_file(path.join(d, 'IMAGES',candidat+\".png\"))\n",
    "    print max(wordcloud.words_.values())\n",
    "    #print wordcloud.layout_\n",
    "    \n",
    "    plt.figure()\n",
    "    plt.imshow(wordcloud, interpolation=\"bilinear\")\n",
    "    plt.axis(\"off\")\n",
    "    plt.show()\n",
    "  \n",
    "    return wordcloud.words_ #retorna tf normalizado\n",
    "\n",
    "#for plot segunda vez\n",
    "def word_cloud_freq(candidat, dicc):\n",
    "    from wordcloud import WordCloud\n",
    "    from wordcloud import WordCloud, STOPWORDS\n",
    "    from os import path, getcwd\n",
    "    #d = \"/Users/mguevara/Dropbox/UPLA/INVESTIGACION/proyectos/PROGRAMAS\\ SON\\ PALABRAS/\"\n",
    "    d= getcwd()\n",
    "   \n",
    "    import matplotlib.pyplot as plt\n",
    "    dicc[candidat+\"+\"]= dicc[candidat]\n",
    "    del dicc[candidat]\n",
    "    # lower max_font_size\n",
    "    wordcloud = WordCloud(background_color=\"black\",normalize_plurals=False,max_font_size=200, width=1000, height=600).generate_from_frequencies(dicc)\n",
    "    wordcloud.to_file(path.join(d, 'IMAGES_IDF',candidat+\".png\"))\n",
    "    print max(wordcloud.words_.values())\n",
    "    #print wordcloud.layout_\n",
    "    \n",
    "    plt.figure()\n",
    "    plt.imshow(wordcloud, interpolation=\"bilinear\")\n",
    "    plt.axis(\"off\")\n",
    "    plt.show()\n",
    "\n",
    "\n",
    "def proc_text(texto):\n",
    "    import nltk\n",
    "    from nltk.corpus import stopwords\n",
    "    mas_stopwords = {\"MA\",\"ma\",\"que\",\"en\",\"LA\", \"el\" \"más\",\"pág\",\"página\",\"pág.\",\"etc\"}\n",
    "    texto_l = texto.lower()\n",
    "    filtered_words = [word for word in texto_l.split() if word not in stopwords.words('spanish') and word not in mas_stopwords]\n",
    "\n",
    "\n",
    "    return filtered_words"
   ]
  },
  {
   "cell_type": "code",
   "execution_count": 246,
   "metadata": {
    "scrolled": true
   },
   "outputs": [
    {
     "name": "stdout",
     "output_type": "stream",
     "text": [
      "1.0\n",
      "1.0\n",
      "1.0\n",
      "1.0\n",
      "1.0\n",
      "1.0\n",
      "1.0\n",
      "1.0\n"
     ]
    }
   ],
   "source": [
    "\n",
    "candidatos = [\"goic\",\"kast\",u\"piñera\",\"guillier\",u\"sánchez\",u\"enríquezOminami\",u\"artés\",\"navarro\"]\n",
    "dicc = {} #acumular diccionario de candidatos\n",
    "for candidato in candidatos:\n",
    "    text = get_text(candidato)\n",
    "    #text = get_text_pdf(candidato) #version antigua\n",
    "    text = proc_text(text)\n",
    "    text = \" \".join(text)\n",
    "    #print text[:100]\n",
    "    d_tf = word_cloud(text, candidato)\n",
    "    #guardar aqui csv\n",
    "    dicc[candidato] = d_tf\n"
   ]
  },
  {
   "cell_type": "code",
   "execution_count": 249,
   "metadata": {},
   "outputs": [
    {
     "name": "stdout",
     "output_type": "stream",
     "text": [
      "1.0\n",
      "1.0\n",
      "1.0\n",
      "1.0\n",
      "1.0\n",
      "1.0\n",
      "1.0\n",
      "1.0\n"
     ]
    }
   ],
   "source": [
    "# Encontrando diferencias, con el uso de Tf iDF\n",
    "#len(dicc[u'kast'])\n",
    "idf = {}\n",
    "#print dicc\n",
    "#document frequency\n",
    "for can_dicc in dicc.values():\n",
    "    for word in can_dicc:\n",
    "        if word not in idf:\n",
    "            idf[word] = 0\n",
    "        idf[word]+=1\n",
    "#get IDF       \n",
    "from math import log\n",
    "for word in idf:\n",
    "    #print \"len \" , len(dicc)\n",
    "    #print \"idf\", idf[word]\n",
    "    idf[word] = log(len(dicc)/idf[word])\n",
    "    \n",
    "dic_final = {}\n",
    "for cand, tf in dicc.items():\n",
    "    can_dicc = {}\n",
    "    for word in tf:\n",
    "        if idf[word] != 0:\n",
    "            can_dicc[word] = tf[word]*idf[word]\n",
    "    dic_final[cand]= can_dicc\n",
    "    \n",
    "#plot wordClouds2\n",
    "for cand in dic_final:\n",
    "    word_cloud_freq(cand,dic_final[cand])"
   ]
  },
  {
   "cell_type": "code",
   "execution_count": null,
   "metadata": {
    "collapsed": true
   },
   "outputs": [],
   "source": []
  }
 ],
 "metadata": {
  "kernelspec": {
   "display_name": "Python 2",
   "language": "python",
   "name": "python2"
  },
  "language_info": {
   "codemirror_mode": {
    "name": "ipython",
    "version": 2
   },
   "file_extension": ".py",
   "mimetype": "text/x-python",
   "name": "python",
   "nbconvert_exporter": "python",
   "pygments_lexer": "ipython2",
   "version": "2.7.13"
  }
 },
 "nbformat": 4,
 "nbformat_minor": 1
}
